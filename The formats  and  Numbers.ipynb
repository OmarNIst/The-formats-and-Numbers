{
 "cells": [
  {
   "cell_type": "code",
   "execution_count": 17,
   "metadata": {},
   "outputs": [
    {
     "name": "stdout",
     "output_type": "stream",
     "text": [
      "My Name is : Osama and My Age is: 36 and my Rank is: 10\n",
      "My Name is : Osama and My Age is: 36 and my Rank is: 10.000000\n"
     ]
    }
   ],
   "source": [
    "name = \"Osama\"\n",
    "age = 36 \n",
    "rank = 10\n",
    "print(\"My Name is : {} and My Age is: {} and my Rank is: {}\".format(name, age, rank))\n",
    "print(\"My Name is : {:s} and My Age is: {:d} and my Rank is: {:f}\".format(name, age, rank))\n",
    "#s  for string\n",
    "#d  for digit\n",
    "#f  for float"
   ]
  },
  {
   "cell_type": "code",
   "execution_count": 21,
   "metadata": {},
   "outputs": [
    {
     "name": "stdout",
     "output_type": "stream",
     "text": [
      "My Number is: 10\n",
      "My Number is: 10.000000\n",
      "My Number is: 10.00\n"
     ]
    }
   ],
   "source": [
    "# control Floating Point Number\n",
    "myNumber = 10\n",
    "print(\"My Number is: {:d}\".format(myNumber))\n",
    "print(\"My Number is: {:f}\".format(myNumber))\n",
    "print(\"My Number is: {:.2f}\".format(myNumber))"
   ]
  },
  {
   "cell_type": "code",
   "execution_count": 34,
   "metadata": {},
   "outputs": [
    {
     "name": "stdout",
     "output_type": "stream",
     "text": [
      "Message is Hello Peoples of Elzero web School I Love You All\n",
      "Message is Hello\n",
      "My Money: 500162350198\n",
      "My Money: 500_162_350_198\n",
      "My Money: 500162350198\n",
      "My Money: 500,162,350,198\n",
      "Hello One Two Three\n",
      "Hello Two One Two\n",
      "Hello Three One Two\n"
     ]
    }
   ],
   "source": [
    "# Truncate String\n",
    "myLongString = \"Hello Peoples of Elzero web School I Love You All\"\n",
    "print(\"Message is {}\".format(myLongString))\n",
    "print(\"Message is {:.5s}\".format(myLongString))\n",
    "\n",
    "myMoney = 500162350198\n",
    "print(\"My Money: {}\".format(myMoney))\n",
    "print(\"My Money: {:_}\".format(myMoney))\n",
    "print(\"My Money: {:d}\".format(myMoney))\n",
    "print(\"My Money: {:,d}\".format(myMoney))\n",
    "\n",
    "\n",
    "# ReArrange Items\n",
    "a,b,c = \"One\" , \"Two\" , \"Three\"\n",
    "print(\"Hello {} {} {}\".format(a,b,c))\n",
    "print(\"Hello {1} {0} {1}\".format(a,b,c))\n",
    "print(\"Hello {2} {0} {1}\".format(a,b,c))\n"
   ]
  },
  {
   "cell_type": "code",
   "execution_count": 35,
   "metadata": {},
   "outputs": [
    {
     "name": "stdout",
     "output_type": "stream",
     "text": [
      "Hello 10 20 30\n",
      "Hello 20 30 10\n",
      "Hello 30.000000 10.000000 20.000000\n",
      "Hello 30.00 10.0000 20.00000\n"
     ]
    }
   ],
   "source": [
    "x,y,z = 10 , 20 , 30\n",
    "print(\"Hello {} {} {}\".format(x,y,z))\n",
    "print(\"Hello {1:d} {2:d} {0:d}\".format(x,y,z))\n",
    "print(\"Hello {2:f} {0:f} {1:f}\".format(x,y,z))\n",
    "print(\"Hello {2:.2f} {0:.4f} {1:.5f}\".format(x,y,z))"
   ]
  },
  {
   "cell_type": "code",
   "execution_count": 36,
   "metadata": {},
   "outputs": [],
   "source": [
    "#  https://pyformat.info/"
   ]
  },
  {
   "cell_type": "code",
   "execution_count": 45,
   "metadata": {},
   "outputs": [
    {
     "name": "stdout",
     "output_type": "stream",
     "text": [
      "<class 'int'>\n",
      "<class 'float'>\n",
      "<class 'complex'>\n",
      "Real Part IS:5.0\n",
      "Imaginary Part IS:6.0\n",
      "100\n",
      "100.0\n",
      "10\n",
      "(100+0j)\n"
     ]
    }
   ],
   "source": [
    "# Numbers\n",
    "print(type(100))\n",
    "print(type(100.0))\n",
    "print(type(5+6j))\n",
    "MyComplexNumber = 5+6j\n",
    "print(\"Real Part IS:{}\".format(MyComplexNumber.real))\n",
    "print(\"Imaginary Part IS:{}\".format(MyComplexNumber.imag))\n",
    "\n",
    "# just to know you can convert from int to float or Complex\n",
    "# and you can convert from Float to Int or complex \n",
    "# we can't do the vice versa (from complex to float or int)\n",
    "\n",
    "print(100)\n",
    "print(float(100))\n",
    "print(int(10.5))\n",
    "print(complex(100))"
   ]
  }
 ],
 "metadata": {
  "kernelspec": {
   "display_name": "Python 3",
   "language": "python",
   "name": "python3"
  },
  "language_info": {
   "codemirror_mode": {
    "name": "ipython",
    "version": 3
   },
   "file_extension": ".py",
   "mimetype": "text/x-python",
   "name": "python",
   "nbconvert_exporter": "python",
   "pygments_lexer": "ipython3",
   "version": "3.11.2"
  },
  "orig_nbformat": 4
 },
 "nbformat": 4,
 "nbformat_minor": 2
}
